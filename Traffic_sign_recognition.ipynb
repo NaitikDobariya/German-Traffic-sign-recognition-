{
 "cells": [
  {
   "cell_type": "code",
   "execution_count": 3,
   "metadata": {},
   "outputs": [],
   "source": [
    "import tensorflow as tf\n",
    "import cv2\n",
    "import pandas as pd\n",
    "import matplotlib.pyplot as plt\n",
    "import os\n",
    "import sklearn.model_selection \n",
    "from PIL import Image\n",
    "import numpy as np"
   ]
  },
  {
   "cell_type": "code",
   "execution_count": 1,
   "metadata": {},
   "outputs": [],
   "source": [
    "from keras.utils import to_categorical\n",
    "from keras.models import Sequential, load_model\n",
    "from keras.layers import Conv2D, MaxPooling2D, Dense, Flatten, Dropout"
   ]
  },
  {
   "cell_type": "code",
   "execution_count": 4,
   "metadata": {},
   "outputs": [],
   "source": [
    "os.chdir(r\"D:\\Computer education\\DL & ML\\Traffic sign recognition\\Dataset\\unzipped\")"
   ]
  },
  {
   "cell_type": "code",
   "execution_count": 5,
   "metadata": {},
   "outputs": [],
   "source": [
    "Data = []\n",
    "Labels = []\n",
    "classes = 43\n",
    "data_path = os.getcwd()"
   ]
  },
  {
   "cell_type": "code",
   "execution_count": 119,
   "metadata": {},
   "outputs": [
    {
     "data": {
      "text/plain": [
       "'D:\\\\Computer education\\\\DL & ML\\\\Traffic sign recognition\\\\Dataset\\\\unzipped'"
      ]
     },
     "execution_count": 119,
     "metadata": {},
     "output_type": "execute_result"
    }
   ],
   "source": [
    "data_path"
   ]
  },
  {
   "cell_type": "code",
   "execution_count": 45,
   "metadata": {},
   "outputs": [],
   "source": [
    "for i in range(classes):\n",
    "    path = os.path.join(data_path,'train',str(i))\n",
    "    images = os.listdir(path)\n",
    "    for a in images:\n",
    "        try:\n",
    "            image = Image.open(path+'\\\\'+a)\n",
    "            image = image.resize((30,30))\n",
    "            image = np.array(image)\n",
    "            Data.append(image)\n",
    "            Labels.append(i)\n",
    "        except Exception as e:\n",
    "            print(e)"
   ]
  },
  {
   "cell_type": "code",
   "execution_count": 46,
   "metadata": {},
   "outputs": [],
   "source": [
    "Data = np.array(Data)\n",
    "Labels = np.array(Labels)"
   ]
  },
  {
   "cell_type": "code",
   "execution_count": 47,
   "metadata": {},
   "outputs": [],
   "source": [
    "np.save(r'D:\\Computer education\\DL & ML\\Traffic sign recognition\\Dataset\\unzipped\\Training_Data',Data)\n",
    "np.save(r'D:\\Computer education\\DL & ML\\Traffic sign recognition\\Dataset\\unzipped\\Training_Labels',Labels)"
   ]
  },
  {
   "cell_type": "code",
   "execution_count": 121,
   "metadata": {},
   "outputs": [],
   "source": [
    "Data = np.load(r'D:\\Computer education\\DL & ML\\Traffic sign recognition\\Dataset\\unzipped\\Training_Data.npy')\n",
    "Labels = np.load(r'D:\\Computer education\\DL & ML\\Traffic sign recognition\\Dataset\\unzipped\\Training_Labels.npy')"
   ]
  },
  {
   "cell_type": "code",
   "execution_count": 49,
   "metadata": {},
   "outputs": [
    {
     "name": "stdout",
     "output_type": "stream",
     "text": [
      "(39209, 30, 30, 3) (39209,)\n"
     ]
    }
   ],
   "source": [
    "print(Data.shape, Labels.shape)"
   ]
  },
  {
   "cell_type": "code",
   "execution_count": 50,
   "metadata": {},
   "outputs": [
    {
     "data": {
      "text/plain": [
       "array([[[ 75,  78,  80],\n",
       "        [ 74,  76,  78],\n",
       "        [ 85,  86,  84],\n",
       "        ...,\n",
       "        [ 68,  75,  74],\n",
       "        [ 65,  69,  68],\n",
       "        [ 66,  67,  66]],\n",
       "\n",
       "       [[ 83,  84,  86],\n",
       "        [ 80,  80,  82],\n",
       "        [ 88,  88,  83],\n",
       "        ...,\n",
       "        [ 73,  77,  78],\n",
       "        [ 76,  78,  75],\n",
       "        [ 80,  80,  78]],\n",
       "\n",
       "       [[ 78,  78,  80],\n",
       "        [ 86,  85,  86],\n",
       "        [ 90,  89,  90],\n",
       "        ...,\n",
       "        [ 71,  74,  71],\n",
       "        [ 73,  74,  69],\n",
       "        [ 78,  78,  74]],\n",
       "\n",
       "       ...,\n",
       "\n",
       "       [[133, 134, 139],\n",
       "        [123, 127, 132],\n",
       "        [112, 121, 125],\n",
       "        ...,\n",
       "        [ 94,  95,  89],\n",
       "        [ 97,  98,  91],\n",
       "        [ 99, 103,  99]],\n",
       "\n",
       "       [[ 91,  95,  99],\n",
       "        [ 91,  98, 103],\n",
       "        [ 75,  86,  90],\n",
       "        ...,\n",
       "        [104, 102,  96],\n",
       "        [110, 113, 104],\n",
       "        [ 96, 104,  98]],\n",
       "\n",
       "       [[ 85,  84,  87],\n",
       "        [ 95, 101, 107],\n",
       "        [ 63,  76,  81],\n",
       "        ...,\n",
       "        [103, 103,  95],\n",
       "        [ 99, 102,  90],\n",
       "        [ 90,  97,  89]]], dtype=uint8)"
      ]
     },
     "execution_count": 50,
     "metadata": {},
     "output_type": "execute_result"
    }
   ],
   "source": [
    "Data[0]"
   ]
  },
  {
   "cell_type": "code",
   "execution_count": 61,
   "metadata": {},
   "outputs": [],
   "source": [
    "xtrain,xtest,ytrain,ytest = sklearn.model_selection.train_test_split(Data,Labels,test_size=0.2)"
   ]
  },
  {
   "cell_type": "code",
   "execution_count": 58,
   "metadata": {},
   "outputs": [
    {
     "data": {
      "text/plain": [
       "(31367, 30, 30, 3)"
      ]
     },
     "execution_count": 58,
     "metadata": {},
     "output_type": "execute_result"
    }
   ],
   "source": [
    "xtrain.shape"
   ]
  },
  {
   "cell_type": "code",
   "execution_count": 68,
   "metadata": {},
   "outputs": [],
   "source": [
    "ytrain = to_categorical(ytrain, 43)\n",
    "ytest = to_categorical(ytest, 43)"
   ]
  },
  {
   "cell_type": "code",
   "execution_count": 69,
   "metadata": {},
   "outputs": [],
   "source": [
    "cnn = Sequential()\n",
    "cnn.add(Conv2D(filters=30, kernel_size=(4,4),activation='relu',input_shape=((30,30,3))))\n",
    "cnn.add(Conv2D(filters=30, kernel_size=(4,4),activation='relu'))\n",
    "cnn.add(MaxPooling2D(pool_size=(3,3)))\n",
    "cnn.add(Dropout(rate=0.2))\n",
    "cnn.add(Conv2D(filters=50, kernel_size=(3,3),activation='relu'))\n",
    "cnn.add(Conv2D(filters=50, kernel_size=(3,3),activation='relu'))\n",
    "cnn.add(MaxPooling2D(pool_size=(3,3)))\n",
    "cnn.add(Dropout(rate=0.2))\n",
    "cnn.add(Flatten())\n",
    "cnn.add(Dense(256, activation='relu'))\n",
    "cnn.add(Dropout(rate=0.5))\n",
    "cnn.add(Dense(43, activation='softmax'))"
   ]
  },
  {
   "cell_type": "code",
   "execution_count": 70,
   "metadata": {},
   "outputs": [],
   "source": [
    "cnn.compile(loss='categorical_crossentropy', optimizer='adam', metrics=['accuracy'])"
   ]
  },
  {
   "cell_type": "code",
   "execution_count": 72,
   "metadata": {},
   "outputs": [
    {
     "name": "stdout",
     "output_type": "stream",
     "text": [
      "Epoch 1/20\n",
      "981/981 [==============================] - 87s 89ms/step - loss: 2.1834 - accuracy: 0.3960 - val_loss: 0.8087 - val_accuracy: 0.7621\n",
      "Epoch 2/20\n",
      "981/981 [==============================] - 83s 84ms/step - loss: 0.7898 - accuracy: 0.7670 - val_loss: 0.2933 - val_accuracy: 0.9282\n",
      "Epoch 3/20\n",
      "981/981 [==============================] - 76s 78ms/step - loss: 0.4926 - accuracy: 0.8620 - val_loss: 0.1537 - val_accuracy: 0.9602\n",
      "Epoch 4/20\n",
      "981/981 [==============================] - 77s 79ms/step - loss: 0.3785 - accuracy: 0.8972 - val_loss: 0.1166 - val_accuracy: 0.9716\n",
      "Epoch 5/20\n",
      "981/981 [==============================] - 76s 78ms/step - loss: 0.3350 - accuracy: 0.9106 - val_loss: 0.0855 - val_accuracy: 0.9801\n",
      "Epoch 6/20\n",
      "981/981 [==============================] - 76s 78ms/step - loss: 0.2843 - accuracy: 0.9260 - val_loss: 0.0771 - val_accuracy: 0.9814\n",
      "Epoch 7/20\n",
      "981/981 [==============================] - 77s 79ms/step - loss: 0.2688 - accuracy: 0.9311 - val_loss: 0.0823 - val_accuracy: 0.9797\n",
      "Epoch 8/20\n",
      "981/981 [==============================] - 85s 87ms/step - loss: 0.2620 - accuracy: 0.9345 - val_loss: 0.0752 - val_accuracy: 0.9797\n",
      "Epoch 9/20\n",
      "981/981 [==============================] - 87s 89ms/step - loss: 0.2522 - accuracy: 0.9376 - val_loss: 0.0731 - val_accuracy: 0.9832\n",
      "Epoch 10/20\n",
      "981/981 [==============================] - 79s 81ms/step - loss: 0.2437 - accuracy: 0.9396 - val_loss: 0.1893 - val_accuracy: 0.9475\n",
      "Epoch 11/20\n",
      "981/981 [==============================] - 94s 96ms/step - loss: 0.2407 - accuracy: 0.9407 - val_loss: 0.0640 - val_accuracy: 0.9851\n",
      "Epoch 12/20\n",
      "981/981 [==============================] - 82s 83ms/step - loss: 0.2546 - accuracy: 0.9398 - val_loss: 0.0597 - val_accuracy: 0.9848\n",
      "Epoch 13/20\n",
      "981/981 [==============================] - 84s 86ms/step - loss: 0.2261 - accuracy: 0.9457 - val_loss: 0.0528 - val_accuracy: 0.9839\n",
      "Epoch 14/20\n",
      "981/981 [==============================] - 85s 86ms/step - loss: 0.2236 - accuracy: 0.9484 - val_loss: 0.0842 - val_accuracy: 0.9792\n",
      "Epoch 15/20\n",
      "981/981 [==============================] - 85s 87ms/step - loss: 0.2149 - accuracy: 0.9504 - val_loss: 0.0630 - val_accuracy: 0.9846\n",
      "Epoch 16/20\n",
      "981/981 [==============================] - 88s 90ms/step - loss: 0.2193 - accuracy: 0.9479 - val_loss: 0.0741 - val_accuracy: 0.9804\n",
      "Epoch 17/20\n",
      "981/981 [==============================] - 77s 79ms/step - loss: 0.2559 - accuracy: 0.9426 - val_loss: 0.0810 - val_accuracy: 0.9790\n",
      "Epoch 18/20\n",
      "981/981 [==============================] - 81s 83ms/step - loss: 0.2071 - accuracy: 0.9531 - val_loss: 0.0655 - val_accuracy: 0.9842\n",
      "Epoch 19/20\n",
      "981/981 [==============================] - 96s 98ms/step - loss: 0.2113 - accuracy: 0.9520 - val_loss: 0.0530 - val_accuracy: 0.9857\n",
      "Epoch 20/20\n",
      "981/981 [==============================] - 77s 79ms/step - loss: 0.2346 - accuracy: 0.9478 - val_loss: 0.0460 - val_accuracy: 0.9889\n"
     ]
    }
   ],
   "source": [
    "history = cnn.fit(xtrain, ytrain, batch_size=32, epochs=20, validation_data=(xtest, ytest))"
   ]
  },
  {
   "cell_type": "code",
   "execution_count": 91,
   "metadata": {},
   "outputs": [
    {
     "data": {
      "image/png": "[encoded data removed]",
      "text/plain": [
       "<Figure size 640x480 with 1 Axes>"
      ]
     },
     "metadata": {},
     "output_type": "display_data"
    }
   ],
   "source": [
    "plt.plot(history.history['accuracy'], label='training accuracy')\n",
    "plt.plot(history.history['val_accuracy'], label='val accuracy')\n",
    "plt.title('Accuracy vs Epochs')\n",
    "plt.xlabel('epochs')\n",
    "plt.ylabel('accuracy')\n",
    "plt.legend()\n",
    "plt.show()"
   ]
  },
  {
   "cell_type": "code",
   "execution_count": 92,
   "metadata": {},
   "outputs": [
    {
     "data": {
      "image/png": "[encoded data removed]",
      "text/plain": [
       "<Figure size 640x480 with 1 Axes>"
      ]
     },
     "metadata": {},
     "output_type": "display_data"
    }
   ],
   "source": [
    "plt.plot(history.history['loss'], label='training loss')\n",
    "plt.plot(history.history['val_loss'], label='val loss')\n",
    "plt.title('Loss')\n",
    "plt.xlabel('epochs')\n",
    "plt.ylabel('loss')\n",
    "plt.legend()\n",
    "plt.show()"
   ]
  },
  {
   "cell_type": "code",
   "execution_count": 112,
   "metadata": {},
   "outputs": [
    {
     "name": "stderr",
     "output_type": "stream",
     "text": [
      "WARNING:absl:Found untraced functions such as _jit_compiled_convolution_op, _jit_compiled_convolution_op, _jit_compiled_convolution_op, _jit_compiled_convolution_op while saving (showing 4 of 4). These functions will not be directly callable after loading.\n"
     ]
    },
    {
     "name": "stdout",
     "output_type": "stream",
     "text": [
      "INFO:tensorflow:Assets written to: D:\\Computer education\\DL & ML\\Traffic sign recognition\\Traffic_sign_detection_v0\\assets\n"
     ]
    },
    {
     "name": "stderr",
     "output_type": "stream",
     "text": [
      "INFO:tensorflow:Assets written to: D:\\Computer education\\DL & ML\\Traffic sign recognition\\Traffic_sign_detection_v0\\assets\n"
     ]
    }
   ],
   "source": [
    "cnn.save(r'D:\\Computer education\\DL & ML\\Traffic sign recognition\\Traffic_sign_detection_v0.h5')\n",
    "\n",
    "\"\"\"\"\n",
    "cnn.save(r'D:\\Computer education\\DL & ML\\Traffic sign recognition\\Traffic_sign_detection_v0')\n",
    "**this can also be used to save the model**\n",
    "\n",
    "\"\"\""
   ]
  },
  {
   "cell_type": "code",
   "execution_count": 6,
   "metadata": {},
   "outputs": [],
   "source": [
    "model = load_model(r'D:\\Computer education\\DL & ML\\Traffic sign recognition\\Traffic_sign_detection_v0.h5')"
   ]
  },
  {
   "cell_type": "code",
   "execution_count": 7,
   "metadata": {},
   "outputs": [
    {
     "name": "stdout",
     "output_type": "stream",
     "text": [
      "Model: \"sequential_1\"\n",
      "_________________________________________________________________\n",
      " Layer (type)                Output Shape              Param #   \n",
      "=================================================================\n",
      " conv2d_4 (Conv2D)           (None, 27, 27, 30)        1470      \n",
      "                                                                 \n",
      " conv2d_5 (Conv2D)           (None, 24, 24, 30)        14430     \n",
      "                                                                 \n",
      " max_pooling2d_2 (MaxPooling  (None, 8, 8, 30)         0         \n",
      " 2D)                                                             \n",
      "                                                                 \n",
      " dropout_3 (Dropout)         (None, 8, 8, 30)          0         \n",
      "                                                                 \n",
      " conv2d_6 (Conv2D)           (None, 6, 6, 50)          13550     \n",
      "                                                                 \n",
      " conv2d_7 (Conv2D)           (None, 4, 4, 50)          22550     \n",
      "                                                                 \n",
      " max_pooling2d_3 (MaxPooling  (None, 1, 1, 50)         0         \n",
      " 2D)                                                             \n",
      "                                                                 \n",
      " dropout_4 (Dropout)         (None, 1, 1, 50)          0         \n",
      "                                                                 \n",
      " flatten_1 (Flatten)         (None, 50)                0         \n",
      "                                                                 \n",
      " dense_2 (Dense)             (None, 256)               13056     \n",
      "                                                                 \n",
      " dropout_5 (Dropout)         (None, 256)               0         \n",
      "                                                                 \n",
      " dense_3 (Dense)             (None, 43)                11051     \n",
      "                                                                 \n",
      "=================================================================\n",
      "Total params: 76,107\n",
      "Trainable params: 76,107\n",
      "Non-trainable params: 0\n",
      "_________________________________________________________________\n"
     ]
    }
   ],
   "source": [
    "model.summary()"
   ]
  },
  {
   "cell_type": "code",
   "execution_count": 18,
   "metadata": {},
   "outputs": [],
   "source": [
    "Test_Data=[]\n",
    "Test_Labels=[]"
   ]
  },
  {
   "cell_type": "code",
   "execution_count": 110,
   "metadata": {},
   "outputs": [],
   "source": [
    "path = os.path.join(data_path,'Test')\n",
    "images = os.listdir(path)\n",
    "labels = pd.read_csv(r'D:\\Computer education\\DL & ML\\Traffic sign recognition\\Dataset\\unzipped\\Test.csv')"
   ]
  },
  {
   "cell_type": "code",
   "execution_count": 133,
   "metadata": {},
   "outputs": [
    {
     "data": {
      "text/plain": [
       "0        16\n",
       "1         1\n",
       "2        38\n",
       "3        33\n",
       "4        11\n",
       "         ..\n",
       "12625    12\n",
       "12626    33\n",
       "12627     6\n",
       "12628     7\n",
       "12629    10\n",
       "Name: ClassId, Length: 12630, dtype: int64"
      ]
     },
     "execution_count": 133,
     "metadata": {},
     "output_type": "execute_result"
    }
   ],
   "source": [
    "labels[\"ClassId\"]"
   ]
  },
  {
   "cell_type": "code",
   "execution_count": 135,
   "metadata": {},
   "outputs": [
    {
     "name": "stdout",
     "output_type": "stream",
     "text": [
      "(12630,)\n"
     ]
    },
    {
     "data": {
      "text/plain": [
       "12631"
      ]
     },
     "execution_count": 135,
     "metadata": {},
     "output_type": "execute_result"
    }
   ],
   "source": [
    "print(labels[\"ClassId\"].shape)\n",
    "len(images)"
   ]
  },
  {
   "cell_type": "code",
   "execution_count": 21,
   "metadata": {},
   "outputs": [],
   "source": [
    "k=0\n",
    "for i in images:\n",
    "    try:\n",
    "        path_ = os.path.join(path,images[k])\n",
    "        image = Image.open(path_)\n",
    "        image = image.resize((30,30))\n",
    "        image = np.array(image)\n",
    "        Test_Data.append(image)\n",
    "        Test_Labels.append(labels[\"ClassId\"][k])\n",
    "    except Exception as e:\n",
    "        print(e)\n",
    "    k=k+1"
   ]
  },
  {
   "cell_type": "code",
   "execution_count": 63,
   "metadata": {},
   "outputs": [],
   "source": [
    "Test_Data = np.array(Test_Data)\n",
    "Test_Labels = np.array(Test_Labels)"
   ]
  },
  {
   "cell_type": "code",
   "execution_count": 64,
   "metadata": {},
   "outputs": [
    {
     "name": "stdout",
     "output_type": "stream",
     "text": [
      "(12630, 30, 30, 3)\n",
      "(12630,)\n"
     ]
    }
   ],
   "source": [
    "print(Test_Data.shape)\n",
    "print(Test_Labels.shape)"
   ]
  },
  {
   "cell_type": "code",
   "execution_count": 65,
   "metadata": {},
   "outputs": [],
   "source": [
    "np.save(r'D:\\Computer education\\DL & ML\\Traffic sign recognition\\Dataset\\unzipped\\Testing_Data',Test_Data)\n",
    "np.save(r'D:\\Computer education\\DL & ML\\Traffic sign recognition\\Dataset\\unzipped\\Testing_Labels',Test_Labels)"
   ]
  },
  {
   "cell_type": "code",
   "execution_count": 67,
   "metadata": {},
   "outputs": [],
   "source": [
    "Test_Data = np.load(r'D:\\Computer education\\DL & ML\\Traffic sign recognition\\Dataset\\unzipped\\Testing_Data.npy')\n",
    "Test_Labels = np.load(r'D:\\Computer education\\DL & ML\\Traffic sign recognition\\Dataset\\unzipped\\Testing_Labels.npy')"
   ]
  },
  {
   "cell_type": "code",
   "execution_count": 68,
   "metadata": {},
   "outputs": [
    {
     "name": "stdout",
     "output_type": "stream",
     "text": [
      "(12630, 30, 30, 3)\n",
      "(12630,)\n"
     ]
    }
   ],
   "source": [
    "print(Test_Data.shape)\n",
    "print(Test_Labels.shape)"
   ]
  },
  {
   "cell_type": "code",
   "execution_count": 15,
   "metadata": {},
   "outputs": [],
   "source": [
    "classes = { 0:'Speed limit (20km/h)',\n",
    "            1:'Speed limit (30km/h)', \n",
    "            2:'Speed limit (50km/h)', \n",
    "            3:'Speed limit (60km/h)', \n",
    "            4:'Speed limit (70km/h)', \n",
    "            5:'Speed limit (80km/h)', \n",
    "            6:'End of speed limit (80km/h)', \n",
    "            7:'Speed limit (100km/h)', \n",
    "            8:'Speed limit (120km/h)', \n",
    "            9:'No passing', \n",
    "            10:'No passing veh over 3.5 tons', \n",
    "            11:'Right-of-way at intersection', \n",
    "            12:'Priority road', \n",
    "            13:'Yield', \n",
    "            14:'Stop', \n",
    "            15:'No vehicles', \n",
    "            16:'Veh > 3.5 tons prohibited', \n",
    "            17:'No entry', \n",
    "            18:'General caution', \n",
    "            19:'Dangerous curve left', \n",
    "            20:'Dangerous curve right', \n",
    "            21:'Double curve', \n",
    "            22:'Bumpy road', \n",
    "            23:'Slippery road', \n",
    "            24:'Road narrows on the right', \n",
    "            25:'Road work', \n",
    "            26:'Traffic signals', \n",
    "            27:'Pedestrians', \n",
    "            28:'Children crossing', \n",
    "            29:'Bicycles crossing', \n",
    "            30:'Beware of ice/snow',\n",
    "            31:'Wild animals crossing', \n",
    "            32:'End speed + passing limits', \n",
    "            33:'Turn right ahead', \n",
    "            34:'Turn left ahead', \n",
    "            35:'Ahead only', \n",
    "            36:'Go straight or right', \n",
    "            37:'Go straight or left', \n",
    "            38:'Keep right', \n",
    "            39:'Keep left', \n",
    "            40:'Roundabout mandatory', \n",
    "            41:'End of no passing', \n",
    "            42:'End no passing veh > 3.5 tons' }"
   ]
  },
  {
   "cell_type": "code",
   "execution_count": 83,
   "metadata": {},
   "outputs": [
    {
     "name": "stdout",
     "output_type": "stream",
     "text": [
      "395/395 [==============================] - 4s 9ms/step\n"
     ]
    }
   ],
   "source": [
    "predict = np.array(model.predict(Test_Data))"
   ]
  },
  {
   "cell_type": "code",
   "execution_count": 84,
   "metadata": {},
   "outputs": [
    {
     "data": {
      "text/plain": [
       "(12630, 43)"
      ]
     },
     "execution_count": 84,
     "metadata": {},
     "output_type": "execute_result"
    }
   ],
   "source": [
    "predict.shape"
   ]
  },
  {
   "cell_type": "code",
   "execution_count": 85,
   "metadata": {},
   "outputs": [],
   "source": [
    "predictions=np.empty(len(predict))\n",
    "for i in range(len(predictions)):\n",
    "    predictions[i] = predict[i].argmax()"
   ]
  },
  {
   "cell_type": "code",
   "execution_count": 87,
   "metadata": {},
   "outputs": [
    {
     "data": {
      "text/plain": [
       "(12630,)"
      ]
     },
     "execution_count": 87,
     "metadata": {},
     "output_type": "execute_result"
    }
   ],
   "source": [
    "predictions.shape"
   ]
  },
  {
   "cell_type": "code",
   "execution_count": 88,
   "metadata": {},
   "outputs": [
    {
     "name": "stdout",
     "output_type": "stream",
     "text": [
      "0.9568487727632621\n"
     ]
    }
   ],
   "source": [
    "from sklearn.metrics import accuracy_score\n",
    "print(accuracy_score(predictions,Test_Labels))\n",
    "\n",
    "\n",
    "\"\"\"\"   This gives the final accuracy or the testing accuracy of our model  \"\"\""
   ]
  },
  {
   "cell_type": "code",
   "execution_count": 111,
   "metadata": {},
   "outputs": [],
   "source": [
    "def Visualize_prediction():\n",
    "    a = np.random.randint(0,len(predictions)-1)\n",
    "    pred = predictions[a]\n",
    "    actual = Test_Labels[a]\n",
    "    title = 'Actual: '+classes[actual]+'  vs  Predicted: '+classes[pred]\n",
    "    path_ = os.path.join(path,images[a])\n",
    "    image = Image.open(path_)\n",
    "    plt.imshow(image)\n",
    "    plt.title(title)\n",
    "    plt.show()"
   ]
  },
  {
   "cell_type": "code",
   "execution_count": 127,
   "metadata": {},
   "outputs": [
    {
     "data": {
      "image/png": "[encoded data removed]",
      "text/plain": [
       "<Figure size 640x480 with 1 Axes>"
      ]
     },
     "metadata": {},
     "output_type": "display_data"
    }
   ],
   "source": [
    "Visualize_prediction()"
   ]
  }
 ],
 "metadata": {
  "kernelspec": {
   "display_name": "Python 3",
   "language": "python",
   "name": "python3"
  },
  "language_info": {
   "codemirror_mode": {
    "name": "ipython",
    "version": 3
   },
   "file_extension": ".py",
   "mimetype": "text/x-python",
   "name": "python",
   "nbconvert_exporter": "python",
   "pygments_lexer": "ipython3",
   "version": "3.10.5"
  },
  "orig_nbformat": 4,
  "vscode": {
   "interpreter": {
    "hash": "722e4dd260c8775d920d94ed430a9f48ae1ac4a26fc57b92468894db739ca920"
   }
  }
 },
 "nbformat": 4,
 "nbformat_minor": 2
}
